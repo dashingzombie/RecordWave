{
 "cells": [
  {
   "cell_type": "code",
   "execution_count": 6,
   "metadata": {},
   "outputs": [],
   "source": [
    "import sounddevice as sd\n",
    "import soundfile as sf\n",
    "\n",
    "\n"
   ]
  },
  {
   "cell_type": "code",
   "execution_count": 134,
   "metadata": {},
   "outputs": [
    {
     "name": "stdout",
     "output_type": "stream",
     "text": [
      "   0 HDA Intel PCH: ALC3254 Analog (hw:0,0), ALSA (2 in, 2 out)\n",
      "   1 HDA Intel PCH: HDMI 0 (hw:0,3), ALSA (0 in, 8 out)\n",
      "   2 HDA Intel PCH: HDMI 1 (hw:0,7), ALSA (0 in, 2 out)\n",
      "   3 HDA Intel PCH: HDMI 2 (hw:0,8), ALSA (0 in, 8 out)\n",
      "   4 HDA Intel PCH: HDMI 3 (hw:0,9), ALSA (0 in, 2 out)\n",
      "   5 HDA Intel PCH: HDMI 4 (hw:0,10), ALSA (0 in, 8 out)\n",
      "   6 sysdefault, ALSA (128 in, 128 out)\n",
      "   7 front, ALSA (0 in, 2 out)\n",
      "   8 surround40, ALSA (0 in, 2 out)\n",
      "   9 surround51, ALSA (0 in, 2 out)\n",
      "  10 surround71, ALSA (0 in, 2 out)\n",
      "  11 hdmi, ALSA (0 in, 8 out)\n",
      "  12 samplerate, ALSA (128 in, 128 out)\n",
      "  13 speexrate, ALSA (128 in, 128 out)\n",
      "  14 pulse, ALSA (32 in, 32 out)\n",
      "  15 upmix, ALSA (8 in, 8 out)\n",
      "  16 vdownmix, ALSA (6 in, 6 out)\n",
      "  17 dmix, ALSA (0 in, 2 out)\n",
      "* 18 default, ALSA (32 in, 32 out)\n"
     ]
    }
   ],
   "source": [
    "# query the available audio devices\n",
    "devices = sd.query_devices()\n",
    "\n",
    "# print information about the available audio devices\n",
    "print(devices)\n"
   ]
  },
  {
   "cell_type": "code",
   "execution_count": 1,
   "metadata": {},
   "outputs": [
    {
     "ename": "NameError",
     "evalue": "name 'sd' is not defined",
     "output_type": "error",
     "traceback": [
      "\u001b[0;31m---------------------------------------------------------------------------\u001b[0m",
      "\u001b[0;31mNameError\u001b[0m                                 Traceback (most recent call last)",
      "\u001b[1;32m/home/dashingzombie/Downloads/entom/record.ipynb Cell 3\u001b[0m in \u001b[0;36m<cell line: 14>\u001b[0;34m()\u001b[0m\n\u001b[1;32m     <a href='vscode-notebook-cell:/home/dashingzombie/Downloads/entom/record.ipynb#W4sZmlsZQ%3D%3D?line=10'>11</a>\u001b[0m mic_ids \u001b[39m=\u001b[39m [\u001b[39m0\u001b[39m, \u001b[39m2\u001b[39m, \u001b[39m3\u001b[39m, \u001b[39m4\u001b[39m]  \u001b[39m# replace with the device IDs of the microphones you want to use\u001b[39;00m\n\u001b[1;32m     <a href='vscode-notebook-cell:/home/dashingzombie/Downloads/entom/record.ipynb#W4sZmlsZQ%3D%3D?line=12'>13</a>\u001b[0m \u001b[39m# start recording audio from the selected microphones\u001b[39;00m\n\u001b[0;32m---> <a href='vscode-notebook-cell:/home/dashingzombie/Downloads/entom/record.ipynb#W4sZmlsZQ%3D%3D?line=13'>14</a>\u001b[0m recording \u001b[39m=\u001b[39m sd\u001b[39m.\u001b[39mrec(\u001b[39mint\u001b[39m(duration \u001b[39m*\u001b[39m sample_rate), samplerate\u001b[39m=\u001b[39msample_rate, channels\u001b[39m=\u001b[39mnum_channels, device\u001b[39m=\u001b[39mmic_ids)\n\u001b[1;32m     <a href='vscode-notebook-cell:/home/dashingzombie/Downloads/entom/record.ipynb#W4sZmlsZQ%3D%3D?line=15'>16</a>\u001b[0m \u001b[39m# wait for the recording to finish\u001b[39;00m\n\u001b[1;32m     <a href='vscode-notebook-cell:/home/dashingzombie/Downloads/entom/record.ipynb#W4sZmlsZQ%3D%3D?line=16'>17</a>\u001b[0m sd\u001b[39m.\u001b[39mwait()\n",
      "\u001b[0;31mNameError\u001b[0m: name 'sd' is not defined"
     ]
    }
   ],
   "source": [
    "# define the number of channels and sample rate for the audio recording\n",
    "\n",
    "\n",
    "num_channels = 4\n",
    "sample_rate = 48000\n",
    "\n",
    "# define the duration of the audio recording in seconds\n",
    "duration = 10\n",
    "\n",
    "# select which microphones to record from\n",
    "mic_ids = [0, 2, 3, 4]  # replace with the device IDs of the microphones you want to use\n",
    "\n",
    "# start recording audio from the selected microphones\n",
    "recording = sd.rec(int(duration * sample_rate), samplerate=sample_rate, channels=num_channels, device=mic_ids)\n",
    "\n",
    "# wait for the recording to finish\n",
    "sd.wait()\n",
    "\n",
    "# save each channel to a separate audio file\n",
    "for i in range(num_channels):\n",
    "    file_name = f\"mic{i+1}.wav\"  # name the file based on the microphone number\n",
    "    sf.write(file_name, recording[:, i], sample_rate)"
   ]
  }
 ],
 "metadata": {
  "kernelspec": {
   "display_name": "Python 3",
   "language": "python",
   "name": "python3"
  },
  "language_info": {
   "codemirror_mode": {
    "name": "ipython",
    "version": 3
   },
   "file_extension": ".py",
   "mimetype": "text/x-python",
   "name": "python",
   "nbconvert_exporter": "python",
   "pygments_lexer": "ipython3",
   "version": "3.8.10"
  },
  "orig_nbformat": 4,
  "vscode": {
   "interpreter": {
    "hash": "916dbcbb3f70747c44a77c7bcd40155683ae19c65e1c03b4aa3499c5328201f1"
   }
  }
 },
 "nbformat": 4,
 "nbformat_minor": 2
}
